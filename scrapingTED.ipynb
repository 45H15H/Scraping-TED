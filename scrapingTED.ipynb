{
 "cells": [
  {
   "cell_type": "code",
   "execution_count": 38,
   "metadata": {},
   "outputs": [],
   "source": [
    "import pandas as pd\n",
    "from bs4 import BeautifulSoup\n",
    "import requests"
   ]
  },
  {
   "cell_type": "code",
   "execution_count": 26,
   "metadata": {},
   "outputs": [
    {
     "name": "stderr",
     "output_type": "stream",
     "text": [
      "C:\\Users\\Ashish Singh\\AppData\\Local\\Temp\\ipykernel_31796\\225037134.py:8: DeprecationWarning: executable_path has been deprecated, please pass in a Service object\n",
      "  driver = webdriver.Chrome(\"C:/Users/Ashish Singh/Downloads/chromedriver_win32/chromedriver.exe\", chrome_options = options)\n",
      "C:\\Users\\Ashish Singh\\AppData\\Local\\Temp\\ipykernel_31796\\225037134.py:8: DeprecationWarning: use options instead of chrome_options\n",
      "  driver = webdriver.Chrome(\"C:/Users/Ashish Singh/Downloads/chromedriver_win32/chromedriver.exe\", chrome_options = options)\n"
     ]
    }
   ],
   "source": [
    "# Selenium is required for clicking buttons\n",
    "from selenium import webdriver\n",
    "# webdriver will click the buttons by controlling chrome\n",
    "options = webdriver.ChromeOptions()\n",
    "options.add_argument('--ignore-certificate-errors')\n",
    "options.add_argument('--incognito') # to open incognito window\n",
    "options.add_argument('--headless') # without actually opening the chrome window\n",
    "driver = webdriver.Chrome(\"C:/Users/Ashish Singh/Downloads/chromedriver_win32/chromedriver.exe\", chrome_options = options)"
   ]
  },
  {
   "cell_type": "code",
   "execution_count": 31,
   "metadata": {},
   "outputs": [],
   "source": [
    "# using By.CLASS_NAME will give error so we have to import it\n",
    "from selenium.webdriver.common.by import By"
   ]
  },
  {
   "cell_type": "code",
   "execution_count": 67,
   "metadata": {},
   "outputs": [],
   "source": [
    "# now we need to click the required button on the page and get the html content of that \n",
    "# so this block will clik and then give the page to beautifulsoup for scraping \n",
    "\n",
    "import time\n",
    "\n",
    "driver.get(\"https://www.ted.com/talks/zineb_sqalli_climate_action_s_hidden_opportunities_for_women\")\n",
    "\n",
    "# use xpath when same class or id is used for buttons. otherwise you will get invalidselectorexception error\n",
    "more_buttons = driver.find_elements(By.XPATH, '//*[@id=\"maincontent\"]/div/div/div/div/div[3]/div[1]/button')\n",
    "\n",
    "# for clicking the found botton\n",
    "for x in range(len(more_buttons)):\n",
    "  if more_buttons[x].is_displayed():\n",
    "      driver.execute_script(\"arguments[0].click();\", more_buttons[x])\n",
    "      time.sleep(1)\n",
    "page_source = driver.page_source"
   ]
  },
  {
   "cell_type": "code",
   "execution_count": 68,
   "metadata": {},
   "outputs": [],
   "source": [
    "# now comes the work of beautifulsoup\n",
    "soup = BeautifulSoup(page_source, 'lxml')"
   ]
  },
  {
   "cell_type": "code",
   "execution_count": 69,
   "metadata": {},
   "outputs": [],
   "source": [
    "main = soup.find('div', class_ = \"mb-10 w-full\")"
   ]
  },
  {
   "cell_type": "code",
   "execution_count": 70,
   "metadata": {},
   "outputs": [],
   "source": [
    "transcripts = main.find('div', class_ = \"w-full\")"
   ]
  },
  {
   "cell_type": "code",
   "execution_count": 71,
   "metadata": {},
   "outputs": [
    {
     "name": "stdout",
     "output_type": "stream",
     "text": [
      "<div class=\"mx-auto mb-10 w-full\"><div class=\"flex justify-between\"><h4><span class=\"text-lg font-bold\">Transcript</span> <span class=\"text-sm font-normal\">(1 Language)</span></h4><div><button type=\"button\"><i aria-hidden=\"true\" class=\"icon-more-horizontal\"></i></button></div></div><div class=\"mt-4 w-full\"><div class=\"max-w-64 w-full\"><div class=\"css-x1eoxi\"><svg class=\"css-h3zlkk\" viewbox=\"0 0 15 10\"><path d=\"M7.44 7.266l5.625-5.984a1.015 1.015 0 011.501 0 1.191 1.191 0 010 1.6l-6.373 6.78a1.016 1.016 0 01-1.466.034L.31 2.887c-.208-.22-.31-.513-.31-.8s.102-.58.31-.8a1.015 1.015 0 011.501 0l5.63 5.98z\" fill=\"currentColor\"></path></svg><select class=\"rounded-sm css-wbqv41\" data-testid=\"transcript__language-dropdown\"><option value=\"en\">English</option></select></div></div><div class=\"min-w-40 mt-4 mb-8 flex justify-between\"></div></div><div class=\"w-full\" data-testid=\"paragraphs-container\"><div class=\"mb-6 w-full\"><div class=\"mt-10 mb-5 flex items-center\"><button class=\"group flex justify-between items-center w-20 py-2 px-3 rounded-full bg-gray-50\" type=\"button\"><div class=\"w-4 h-4 text-red-500 relative flex justify-center items-center\"><i aria-hidden=\"true\" class=\"icon-play-filled opacity-0 absolute w-full h-full group-hover:opacity-100\"></i><i aria-hidden=\"true\" class=\"icon-play absolute w-full h-full\"></i></div><div class=\"text-sm\">00:00</div></button></div><span class=\"block w-full css-82uonn\" dir=\"ltr\"><span class=\"inline cursor-pointer hover:bg-red-300 css-82uonn\">What if our efforts\n",
      "to build a better planet </span><span class=\"inline cursor-pointer hover:bg-red-300 css-82uonn\">benefited half of this room more? </span><span class=\"inline cursor-pointer hover:bg-red-300 css-82uonn\">What if we reduced our emissions </span><span class=\"inline cursor-pointer hover:bg-red-300 css-82uonn\">but increased the gap\n",
      "between men and women? </span><span class=\"inline cursor-pointer hover:bg-red-300 css-82uonn\">What if by 2050 we reach net zero, </span><span class=\"inline cursor-pointer hover:bg-red-300 css-82uonn\">but women had a lower chance\n",
      "than men to find a decent job? </span><span class=\"inline cursor-pointer hover:bg-red-300 css-82uonn\">Disturbing, right? </span><span class=\"inline cursor-pointer hover:bg-red-300 css-82uonn\">And yet, this is exactly\n",
      "what my colleagues and I found </span><span class=\"inline cursor-pointer hover:bg-red-300 css-82uonn\">while studying the links\n",
      "between women and climate </span><span class=\"inline cursor-pointer hover:bg-red-300 css-82uonn\">over the last years. </span><span class=\"inline cursor-pointer hover:bg-red-300 css-82uonn\">Our research has shown\n",
      "that climate action, </span><span class=\"inline cursor-pointer hover:bg-red-300 css-82uonn\">as it is unfolding, </span><span class=\"inline cursor-pointer hover:bg-red-300 css-82uonn\">could set gender equality\n",
      "back by 15 years. </span><span class=\"inline cursor-pointer hover:bg-red-300 css-82uonn\">I'm going to say that again. </span><span class=\"inline cursor-pointer hover:bg-red-300 css-82uonn\">So climate action, not climate change, </span><span class=\"inline cursor-pointer hover:bg-red-300 css-82uonn\">climate action, </span><span class=\"inline cursor-pointer hover:bg-red-300 css-82uonn\">meaning all the efforts\n",
      "that are being made </span><span class=\"inline cursor-pointer hover:bg-red-300 css-82uonn\">to reduce our emissions, </span><span class=\"inline cursor-pointer hover:bg-red-300 css-82uonn\">to adapt our lives to a warmer planet, </span><span class=\"inline cursor-pointer hover:bg-red-300 css-82uonn\">could actually set gender equality\n",
      "back by 15 years. </span></span></div><div class=\"mb-6 w-full\"><div class=\"mt-10 mb-5 flex items-center\"><button class=\"group flex justify-between items-center w-20 py-2 px-3 rounded-full bg-gray-50\" type=\"button\"><div class=\"w-4 h-4 text-red-500 relative flex justify-center items-center\"><i aria-hidden=\"true\" class=\"icon-play-filled opacity-0 absolute w-full h-full group-hover:opacity-100\"></i><i aria-hidden=\"true\" class=\"icon-play absolute w-full h-full\"></i></div><div class=\"text-sm\">01:02</div></button></div><span class=\"block w-full css-82uonn\" dir=\"ltr\"><span class=\"inline cursor-pointer hover:bg-red-300 css-82uonn\">I know what you must be thinking. </span><span class=\"inline cursor-pointer hover:bg-red-300 css-82uonn\">This is a total buzzkill. </span></span></div><div class=\"mb-6 w-full\"><div class=\"mt-10 mb-5 flex items-center\"><button class=\"group flex justify-between items-center w-20 py-2 px-3 rounded-full bg-gray-50\" type=\"button\"><div class=\"w-4 h-4 text-red-500 relative flex justify-center items-center\"><i aria-hidden=\"true\" class=\"icon-play-filled opacity-0 absolute w-full h-full group-hover:opacity-100\"></i><i aria-hidden=\"true\" class=\"icon-play absolute w-full h-full\"></i></div><div class=\"text-sm\">01:06</div></button></div><span class=\"block w-full css-82uonn\" dir=\"ltr\"><span class=\"inline cursor-pointer hover:bg-red-300 css-82uonn\">(Laughter) </span></span></div><div class=\"mb-6 w-full\"><div class=\"mt-10 mb-5 flex items-center\"><button class=\"group flex justify-between items-center w-20 py-2 px-3 rounded-full bg-gray-50\" type=\"button\"><div class=\"w-4 h-4 text-red-500 relative flex justify-center items-center\"><i aria-hidden=\"true\" class=\"icon-play-filled opacity-0 absolute w-full h-full group-hover:opacity-100\"></i><i aria-hidden=\"true\" class=\"icon-play absolute w-full h-full\"></i></div><div class=\"text-sm\">01:08</div></button></div><span class=\"block w-full css-82uonn\" dir=\"ltr\"><span class=\"inline cursor-pointer hover:bg-red-300 css-82uonn\">So the climate challenge\n",
      "is not big enough, </span><span class=\"inline cursor-pointer hover:bg-red-300 css-82uonn\">you’re adding solving gender\n",
      "equality to the equation? </span><span class=\"inline cursor-pointer hover:bg-red-300 css-82uonn\">I get the feeling. </span><span class=\"inline cursor-pointer hover:bg-red-300 css-82uonn\">But the good news is, if we do it right, </span><span class=\"inline cursor-pointer hover:bg-red-300 css-82uonn\">we have a unique chance to advance\n",
      "both the climate agenda </span><span class=\"inline cursor-pointer hover:bg-red-300 css-82uonn\">and gender equality. </span><span class=\"inline cursor-pointer hover:bg-red-300 css-82uonn\">How? </span><span class=\"inline cursor-pointer hover:bg-red-300 css-82uonn\">By being intentional about it. </span><span class=\"inline cursor-pointer hover:bg-red-300 css-82uonn\">But first, let's go back to that 15-year\n",
      "setback risk I mentioned. </span><span class=\"inline cursor-pointer hover:bg-red-300 css-82uonn\">I give it to you, it's counterintuitive\n",
      "to say that climate action </span><span class=\"inline cursor-pointer hover:bg-red-300 css-82uonn\">that aims at building\n",
      "a more viable future to all of us </span><span class=\"inline cursor-pointer hover:bg-red-300 css-82uonn\">could actually have a negative impact\n",
      "on gender equality. </span></span></div><div class=\"mb-6 w-full\"><div class=\"mt-10 mb-5 flex items-center\"><button class=\"group flex justify-between items-center w-20 py-2 px-3 rounded-full bg-gray-50\" type=\"button\"><div class=\"w-4 h-4 text-red-500 relative flex justify-center items-center\"><i aria-hidden=\"true\" class=\"icon-play-filled opacity-0 absolute w-full h-full group-hover:opacity-100\"></i><i aria-hidden=\"true\" class=\"icon-play absolute w-full h-full\"></i></div><div class=\"text-sm\">01:41</div></button></div><span class=\"block w-full css-82uonn\" dir=\"ltr\"><span class=\"inline cursor-pointer hover:bg-red-300 css-82uonn\">So let me explain. </span><span class=\"inline cursor-pointer hover:bg-red-300 css-82uonn\">Obviously women, as well as men, </span><span class=\"inline cursor-pointer hover:bg-red-300 css-82uonn\">women even more than men, </span><span class=\"inline cursor-pointer hover:bg-red-300 css-82uonn\">will benefit from living\n",
      "in a more sustainable planet. </span><span class=\"inline cursor-pointer hover:bg-red-300 css-82uonn\">Their health, their education,\n",
      "their livelihoods will improve. </span><span class=\"inline cursor-pointer hover:bg-red-300 css-82uonn\">But what I'm saying\n",
      "is that there is also a risk </span><span class=\"inline cursor-pointer hover:bg-red-300 css-82uonn\">that women might miss out </span><span class=\"inline cursor-pointer hover:bg-red-300 css-82uonn\">on the green economy's massive investments </span><span class=\"inline cursor-pointer hover:bg-red-300 css-82uonn\">and job opportunities. </span></span></div><div class=\"mb-6 w-full\"><div class=\"mt-10 mb-5 flex items-center\"><button class=\"group flex justify-between items-center w-20 py-2 px-3 rounded-full bg-gray-50\" type=\"button\"><div class=\"w-4 h-4 text-red-500 relative flex justify-center items-center\"><i aria-hidden=\"true\" class=\"icon-play-filled opacity-0 absolute w-full h-full group-hover:opacity-100\"></i><i aria-hidden=\"true\" class=\"icon-play absolute w-full h-full\"></i></div><div class=\"text-sm\">02:08</div></button></div><span class=\"block w-full css-82uonn\" dir=\"ltr\"><span class=\"inline cursor-pointer hover:bg-red-300 css-82uonn\">And here are two examples of that. </span><span class=\"inline cursor-pointer hover:bg-red-300 css-82uonn\">By 2030, </span><span class=\"inline cursor-pointer hover:bg-red-300 css-82uonn\">65 million green jobs will be created. </span><span class=\"inline cursor-pointer hover:bg-red-300 css-82uonn\">The highest-paid, more stable ones\n",
      "will require what’s called STEM education: </span><span class=\"inline cursor-pointer hover:bg-red-300 css-82uonn\">science, technology,\n",
      "engineering and mathematics. </span><span class=\"inline cursor-pointer hover:bg-red-300 css-82uonn\">Today, women represent 35 percent\n",
      "of STEM students globally. </span><span class=\"inline cursor-pointer hover:bg-red-300 css-82uonn\">So they might be less qualified\n",
      "to access these green jobs. </span></span></div><div class=\"mb-6 w-full\"><div class=\"mt-10 mb-5 flex items-center\"><button class=\"group flex justify-between items-center w-20 py-2 px-3 rounded-full bg-gray-50\" type=\"button\"><div class=\"w-4 h-4 text-red-500 relative flex justify-center items-center\"><i aria-hidden=\"true\" class=\"icon-play-filled opacity-0 absolute w-full h-full group-hover:opacity-100\"></i><i aria-hidden=\"true\" class=\"icon-play absolute w-full h-full\"></i></div><div class=\"text-sm\">02:33</div></button></div><span class=\"block w-full css-82uonn\" dir=\"ltr\"><span class=\"inline cursor-pointer hover:bg-red-300 css-82uonn\">Second example: </span><span class=\"inline cursor-pointer hover:bg-red-300 css-82uonn\">by 2030, companies\n",
      "in highly emitting sectors -- </span><span class=\"inline cursor-pointer hover:bg-red-300 css-82uonn\">such as energy, building materials,\n",
      "industrial goods -- </span><span class=\"inline cursor-pointer hover:bg-red-300 css-82uonn\">will be spending as much\n",
      "as 500 billion dollars </span><span class=\"inline cursor-pointer hover:bg-red-300 css-82uonn\">to train their employees\n",
      "in new green skills. </span></span></div><div class=\"mb-6 w-full\"><div class=\"mt-10 mb-5 flex items-center\"><button class=\"group flex justify-between items-center w-20 py-2 px-3 rounded-full bg-gray-50\" type=\"button\"><div class=\"w-4 h-4 text-red-500 relative flex justify-center items-center\"><i aria-hidden=\"true\" class=\"icon-play-filled opacity-0 absolute w-full h-full group-hover:opacity-100\"></i><i aria-hidden=\"true\" class=\"icon-play absolute w-full h-full\"></i></div><div class=\"text-sm\">02:51</div></button></div><span class=\"block w-full css-82uonn\" dir=\"ltr\"><span class=\"inline cursor-pointer hover:bg-red-300 css-82uonn\">Now, these industries\n",
      "are historically male-dominated, </span><span class=\"inline cursor-pointer hover:bg-red-300 css-82uonn\">so mechanically, women are less likely\n",
      "to participate in these retrainings, </span><span class=\"inline cursor-pointer hover:bg-red-300 css-82uonn\">widening the skill gap\n",
      "between men and women </span><span class=\"inline cursor-pointer hover:bg-red-300 css-82uonn\">again in accessing the jobs of the future. </span><span class=\"inline cursor-pointer hover:bg-red-300 css-82uonn\">So, see, the risk is real. </span><span class=\"inline cursor-pointer hover:bg-red-300 css-82uonn\">Women might miss out\n",
      "on these opportunities and investments, </span><span class=\"inline cursor-pointer hover:bg-red-300 css-82uonn\">or at least miss out on part of them, </span><span class=\"inline cursor-pointer hover:bg-red-300 css-82uonn\">even if this wasn't the initial intent. </span></span></div><div class=\"mb-6 w-full\"><div class=\"mt-10 mb-5 flex items-center\"><button class=\"group flex justify-between items-center w-20 py-2 px-3 rounded-full bg-gray-50\" type=\"button\"><div class=\"w-4 h-4 text-red-500 relative flex justify-center items-center\"><i aria-hidden=\"true\" class=\"icon-play-filled opacity-0 absolute w-full h-full group-hover:opacity-100\"></i><i aria-hidden=\"true\" class=\"icon-play absolute w-full h-full\"></i></div><div class=\"text-sm\">03:18</div></button></div><span class=\"block w-full css-82uonn\" dir=\"ltr\"><span class=\"inline cursor-pointer hover:bg-red-300 css-82uonn\">So what is it that we need to do </span><span class=\"inline cursor-pointer hover:bg-red-300 css-82uonn\">to have a climate action </span><span class=\"inline cursor-pointer hover:bg-red-300 css-82uonn\">that solves these two\n",
      "major challenges at the same time: </span><span class=\"inline cursor-pointer hover:bg-red-300 css-82uonn\">gender equality and sustainability? </span><span class=\"inline cursor-pointer hover:bg-red-300 css-82uonn\">Well, we need to do something\n",
      "that seems very simple, </span><span class=\"inline cursor-pointer hover:bg-red-300 css-82uonn\">yet very often overlooked. </span><span class=\"inline cursor-pointer hover:bg-red-300 css-82uonn\">When investing in green projects </span><span class=\"inline cursor-pointer hover:bg-red-300 css-82uonn\">and developing green products,\n",
      "crafting green legislations, </span><span class=\"inline cursor-pointer hover:bg-red-300 css-82uonn\">we need to make sure that women\n",
      "as well as men will equally benefit. </span><span class=\"inline cursor-pointer hover:bg-red-300 css-82uonn\">Not more, not less. </span><span class=\"inline cursor-pointer hover:bg-red-300 css-82uonn\">Just equally. </span></span></div><div class=\"mb-6 w-full\"><div class=\"mt-10 mb-5 flex items-center\"><button class=\"group flex justify-between items-center w-20 py-2 px-3 rounded-full bg-gray-50\" type=\"button\"><div class=\"w-4 h-4 text-red-500 relative flex justify-center items-center\"><i aria-hidden=\"true\" class=\"icon-play-filled opacity-0 absolute w-full h-full group-hover:opacity-100\"></i><i aria-hidden=\"true\" class=\"icon-play absolute w-full h-full\"></i></div><div class=\"text-sm\">03:57</div></button></div><span class=\"block w-full css-82uonn\" dir=\"ltr\"><span class=\"inline cursor-pointer hover:bg-red-300 css-82uonn\">Might seem obvious. </span><span class=\"inline cursor-pointer hover:bg-red-300 css-82uonn\">You might even think,\n",
      "\"Isn't that what we're already doing?\" </span><span class=\"inline cursor-pointer hover:bg-red-300 css-82uonn\">But history has showed us\n",
      "that time and time again, </span><span class=\"inline cursor-pointer hover:bg-red-300 css-82uonn\">even though this is\n",
      "what we think we're doing, </span><span class=\"inline cursor-pointer hover:bg-red-300 css-82uonn\">this is not what is actually happening, </span><span class=\"inline cursor-pointer hover:bg-red-300 css-82uonn\">at least not naturally, organically, </span><span class=\"inline cursor-pointer hover:bg-red-300 css-82uonn\">not without an explicit intent. </span><span class=\"inline cursor-pointer hover:bg-red-300 css-82uonn\">So we need to take this intent\n",
      "into climate action. </span><span class=\"inline cursor-pointer hover:bg-red-300 css-82uonn\">We need to naturally, systematically, </span><span class=\"inline cursor-pointer hover:bg-red-300 css-82uonn\">intentionally embed\n",
      "what you could call a gender lens </span><span class=\"inline cursor-pointer hover:bg-red-300 css-82uonn\">in all of the green economy’s\n",
      "investments, projects and legislations. </span></span></div><div class=\"mb-6 w-full\"><div class=\"mt-10 mb-5 flex items-center\"><button class=\"group flex justify-between items-center w-20 py-2 px-3 rounded-full bg-gray-50\" type=\"button\"><div class=\"w-4 h-4 text-red-500 relative flex justify-center items-center\"><i aria-hidden=\"true\" class=\"icon-play-filled opacity-0 absolute w-full h-full group-hover:opacity-100\"></i><i aria-hidden=\"true\" class=\"icon-play absolute w-full h-full\"></i></div><div class=\"text-sm\">04:34</div></button></div><span class=\"block w-full css-82uonn\" dir=\"ltr\"><span class=\"inline cursor-pointer hover:bg-red-300 css-82uonn\">And I am not just talking\n",
      "about projects targeting women </span><span class=\"inline cursor-pointer hover:bg-red-300 css-82uonn\">or funds dedicated to women </span><span class=\"inline cursor-pointer hover:bg-red-300 css-82uonn\">or a gender day in climate negotiations. </span><span class=\"inline cursor-pointer hover:bg-red-300 css-82uonn\">I am talking about gender\n",
      "as an intentional forethought </span><span class=\"inline cursor-pointer hover:bg-red-300 css-82uonn\">in every green project,\n",
      "every green investment, </span><span class=\"inline cursor-pointer hover:bg-red-300 css-82uonn\">every green legislation. </span></span></div><div class=\"mb-6 w-full\"><div class=\"mt-10 mb-5 flex items-center\"><button class=\"group flex justify-between items-center w-20 py-2 px-3 rounded-full bg-gray-50\" type=\"button\"><div class=\"w-4 h-4 text-red-500 relative flex justify-center items-center\"><i aria-hidden=\"true\" class=\"icon-play-filled opacity-0 absolute w-full h-full group-hover:opacity-100\"></i><i aria-hidden=\"true\" class=\"icon-play absolute w-full h-full\"></i></div><div class=\"text-sm\">04:53</div></button></div><span class=\"block w-full css-82uonn\" dir=\"ltr\"><span class=\"inline cursor-pointer hover:bg-red-300 css-82uonn\">Let's take an example. </span><span class=\"inline cursor-pointer hover:bg-red-300 css-82uonn\">Green cities. </span><span class=\"inline cursor-pointer hover:bg-red-300 css-82uonn\">Green cities are a great illustration </span><span class=\"inline cursor-pointer hover:bg-red-300 css-82uonn\">of how we could integrate this gender lens </span><span class=\"inline cursor-pointer hover:bg-red-300 css-82uonn\">and have climate action\n",
      "boost gender equality </span><span class=\"inline cursor-pointer hover:bg-red-300 css-82uonn\">instead of setting it back. </span><span class=\"inline cursor-pointer hover:bg-red-300 css-82uonn\">From Chicago to Shanghai, </span><span class=\"inline cursor-pointer hover:bg-red-300 css-82uonn\">from Copenhagen to Rio, </span><span class=\"inline cursor-pointer hover:bg-red-300 css-82uonn\">most large cities have ambitious\n",
      "programs to become greener. </span><span class=\"inline cursor-pointer hover:bg-red-300 css-82uonn\">Two trillion dollars\n",
      "will have to be spent every year </span><span class=\"inline cursor-pointer hover:bg-red-300 css-82uonn\">for the next 20 years </span><span class=\"inline cursor-pointer hover:bg-red-300 css-82uonn\">to upgrade urban infrastructure </span><span class=\"inline cursor-pointer hover:bg-red-300 css-82uonn\">and make it more sustainable. </span><span class=\"inline cursor-pointer hover:bg-red-300 css-82uonn\">And this covers housing, energy </span><span class=\"inline cursor-pointer hover:bg-red-300 css-82uonn\">safety, public transportation,\n",
      "green spaces, you name it. </span><span class=\"inline cursor-pointer hover:bg-red-300 css-82uonn\">With the right approach, </span><span class=\"inline cursor-pointer hover:bg-red-300 css-82uonn\">these cities can become greener </span><span class=\"inline cursor-pointer hover:bg-red-300 css-82uonn\">and more inclusive of women. </span></span></div><div class=\"mb-6 w-full\"><div class=\"mt-10 mb-5 flex items-center\"><button class=\"group flex justify-between items-center w-20 py-2 px-3 rounded-full bg-gray-50\" type=\"button\"><div class=\"w-4 h-4 text-red-500 relative flex justify-center items-center\"><i aria-hidden=\"true\" class=\"icon-play-filled opacity-0 absolute w-full h-full group-hover:opacity-100\"></i><i aria-hidden=\"true\" class=\"icon-play absolute w-full h-full\"></i></div><div class=\"text-sm\">05:47</div></button></div><span class=\"block w-full css-82uonn\" dir=\"ltr\"><span class=\"inline cursor-pointer hover:bg-red-300 css-82uonn\">Now greener, they sort of know\n",
      "how to do that. </span><span class=\"inline cursor-pointer hover:bg-red-300 css-82uonn\">They have already initiated\n",
      "multiple projects, </span><span class=\"inline cursor-pointer hover:bg-red-300 css-82uonn\">and there is already a lot\n",
      "of research in that field. </span></span></div><div class=\"mb-6 w-full\"><div class=\"mt-10 mb-5 flex items-center\"><button class=\"group flex justify-between items-center w-20 py-2 px-3 rounded-full bg-gray-50\" type=\"button\"><div class=\"w-4 h-4 text-red-500 relative flex justify-center items-center\"><i aria-hidden=\"true\" class=\"icon-play-filled opacity-0 absolute w-full h-full group-hover:opacity-100\"></i><i aria-hidden=\"true\" class=\"icon-play absolute w-full h-full\"></i></div><div class=\"text-sm\">05:57</div></button></div><span class=\"block w-full css-82uonn\" dir=\"ltr\"><span class=\"inline cursor-pointer hover:bg-red-300 css-82uonn\">But becoming more inclusive of women, </span><span class=\"inline cursor-pointer hover:bg-red-300 css-82uonn\">we hear less about that. </span><span class=\"inline cursor-pointer hover:bg-red-300 css-82uonn\">This is less documented. </span><span class=\"inline cursor-pointer hover:bg-red-300 css-82uonn\">And yet there is a great story\n",
      "that can serve as an inspiration. </span><span class=\"inline cursor-pointer hover:bg-red-300 css-82uonn\">This story takes place\n",
      "in the beautiful city of Vienna, </span><span class=\"inline cursor-pointer hover:bg-red-300 css-82uonn\">in Austria. </span><span class=\"inline cursor-pointer hover:bg-red-300 css-82uonn\">In the '90s, </span><span class=\"inline cursor-pointer hover:bg-red-300 css-82uonn\">planning officials in Vienna realized </span><span class=\"inline cursor-pointer hover:bg-red-300 css-82uonn\">that women were less satisfied\n",
      "with transportation systems </span><span class=\"inline cursor-pointer hover:bg-red-300 css-82uonn\">than men. </span><span class=\"inline cursor-pointer hover:bg-red-300 css-82uonn\">Because these systems are designed\n",
      "for people going between home and work, </span><span class=\"inline cursor-pointer hover:bg-red-300 css-82uonn\">between suburbs and city centers </span><span class=\"inline cursor-pointer hover:bg-red-300 css-82uonn\">at mostly set times. </span><span class=\"inline cursor-pointer hover:bg-red-300 css-82uonn\">But women, </span><span class=\"inline cursor-pointer hover:bg-red-300 css-82uonn\">although they make up the majority\n",
      "of public transportation users, </span><span class=\"inline cursor-pointer hover:bg-red-300 css-82uonn\">women's trips are nothing like that. </span><span class=\"inline cursor-pointer hover:bg-red-300 css-82uonn\">They are much more fragmented,\n",
      "they are much shorter, </span><span class=\"inline cursor-pointer hover:bg-red-300 css-82uonn\">they require multiple\n",
      "transportation modes, </span><span class=\"inline cursor-pointer hover:bg-red-300 css-82uonn\">and they don't necessarily happen\n",
      "during rush hour. </span><span class=\"inline cursor-pointer hover:bg-red-300 css-82uonn\">All of this because women\n",
      "combine their work trips </span><span class=\"inline cursor-pointer hover:bg-red-300 css-82uonn\">with their domestic\n",
      "and caregiving responsibilities. </span><span class=\"inline cursor-pointer hover:bg-red-300 css-82uonn\">And this, transportation, is a major\n",
      "factor when it comes to women’s labor </span><span class=\"inline cursor-pointer hover:bg-red-300 css-82uonn\">and participation [in] the economy. </span><span class=\"inline cursor-pointer hover:bg-red-300 css-82uonn\">They also noticed something else. </span><span class=\"inline cursor-pointer hover:bg-red-300 css-82uonn\">Before the age of nine, </span><span class=\"inline cursor-pointer hover:bg-red-300 css-82uonn\">boys and girls would equally go to parks. </span><span class=\"inline cursor-pointer hover:bg-red-300 css-82uonn\">But when girls reach the age of nine,\n",
      "something strange happens. </span><span class=\"inline cursor-pointer hover:bg-red-300 css-82uonn\">They almost disappeared from public parks. </span><span class=\"inline cursor-pointer hover:bg-red-300 css-82uonn\">So they did some research\n",
      "and they confirmed that, no, </span><span class=\"inline cursor-pointer hover:bg-red-300 css-82uonn\">it’s not that all of a sudden,\n",
      "when girls turn nine, </span><span class=\"inline cursor-pointer hover:bg-red-300 css-82uonn\">they no longer are interested\n",
      "in public parks. </span><span class=\"inline cursor-pointer hover:bg-red-300 css-82uonn\">It's again, because of the way\n",
      "these parks are designed </span><span class=\"inline cursor-pointer hover:bg-red-300 css-82uonn\">with their single large open space\n",
      "and multiple football cages, </span><span class=\"inline cursor-pointer hover:bg-red-300 css-82uonn\">boys feel welcomed, </span><span class=\"inline cursor-pointer hover:bg-red-300 css-82uonn\">girls feel they need to compete for space. </span><span class=\"inline cursor-pointer hover:bg-red-300 css-82uonn\">So they just stopped going there. </span></span></div><div class=\"mb-6 w-full\"><div class=\"mt-10 mb-5 flex items-center\"><button class=\"group flex justify-between items-center w-20 py-2 px-3 rounded-full bg-gray-50\" type=\"button\"><div class=\"w-4 h-4 text-red-500 relative flex justify-center items-center\"><i aria-hidden=\"true\" class=\"icon-play-filled opacity-0 absolute w-full h-full group-hover:opacity-100\"></i><i aria-hidden=\"true\" class=\"icon-play absolute w-full h-full\"></i></div><div class=\"text-sm\">07:51</div></button></div><span class=\"block w-full css-82uonn\" dir=\"ltr\"><span class=\"inline cursor-pointer hover:bg-red-300 css-82uonn\">So bottom line, through these\n",
      "two examples and many more, </span><span class=\"inline cursor-pointer hover:bg-red-300 css-82uonn\">they realized that the gender-neutral\n",
      "approach that the city had </span><span class=\"inline cursor-pointer hover:bg-red-300 css-82uonn\">and that most cities in the world have, </span><span class=\"inline cursor-pointer hover:bg-red-300 css-82uonn\">this gender-neutral approach\n",
      "can actually be a women-blind one. </span><span class=\"inline cursor-pointer hover:bg-red-300 css-82uonn\">So they decided to intentionally design\n",
      "a gender-equal urban planning program. </span><span class=\"inline cursor-pointer hover:bg-red-300 css-82uonn\">So they surveyed men and women </span><span class=\"inline cursor-pointer hover:bg-red-300 css-82uonn\">to better understand the way\n",
      "they live in the city. </span><span class=\"inline cursor-pointer hover:bg-red-300 css-82uonn\">They brought in female architects\n",
      "and urban planners </span><span class=\"inline cursor-pointer hover:bg-red-300 css-82uonn\">to participate alongside\n",
      "their male colleagues, </span><span class=\"inline cursor-pointer hover:bg-red-300 css-82uonn\">to participate [in] the city’s redesign. </span><span class=\"inline cursor-pointer hover:bg-red-300 css-82uonn\">They added gender assessment\n",
      "in social housing </span><span class=\"inline cursor-pointer hover:bg-red-300 css-82uonn\">and infrastructure contracts. </span><span class=\"inline cursor-pointer hover:bg-red-300 css-82uonn\">So see, just like that,\n",
      "every step was made </span><span class=\"inline cursor-pointer hover:bg-red-300 css-82uonn\">with the intention,\n",
      "the explicit intention, </span><span class=\"inline cursor-pointer hover:bg-red-300 css-82uonn\">to make sure that women\n",
      "will benefit as well as men. </span><span class=\"inline cursor-pointer hover:bg-red-300 css-82uonn\">Again, not more, not less, as well as men. </span><span class=\"inline cursor-pointer hover:bg-red-300 css-82uonn\">So in parks they have added foot paths\n",
      "to divide up space. </span><span class=\"inline cursor-pointer hover:bg-red-300 css-82uonn\">They have integrated\n",
      "a wider range of activities </span><span class=\"inline cursor-pointer hover:bg-red-300 css-82uonn\">such as volleyball. </span><span class=\"inline cursor-pointer hover:bg-red-300 css-82uonn\">And just like that, </span><span class=\"inline cursor-pointer hover:bg-red-300 css-82uonn\">teenage girls came back to parks. </span><span class=\"inline cursor-pointer hover:bg-red-300 css-82uonn\">And this has benefited teenage girls,\n",
      "but not only them. </span><span class=\"inline cursor-pointer hover:bg-red-300 css-82uonn\">Every year since 2009, </span><span class=\"inline cursor-pointer hover:bg-red-300 css-82uonn\">except for COVID years, </span><span class=\"inline cursor-pointer hover:bg-red-300 css-82uonn\">Vienna has been named\n",
      "the best city in the world to live in. </span><span class=\"inline cursor-pointer hover:bg-red-300 css-82uonn\">Now, it's not just the gendered approach, </span><span class=\"inline cursor-pointer hover:bg-red-300 css-82uonn\">but it clearly contributed\n",
      "because for the first time, </span><span class=\"inline cursor-pointer hover:bg-red-300 css-82uonn\">the specific needs of the other\n",
      "half of the population </span><span class=\"inline cursor-pointer hover:bg-red-300 css-82uonn\">were taken into account. </span></span></div><div class=\"mb-6 w-full\"><div class=\"mt-10 mb-5 flex items-center\"><button class=\"group flex justify-between items-center w-20 py-2 px-3 rounded-full bg-gray-50\" type=\"button\"><div class=\"w-4 h-4 text-red-500 relative flex justify-center items-center\"><i aria-hidden=\"true\" class=\"icon-play-filled opacity-0 absolute w-full h-full group-hover:opacity-100\"></i><i aria-hidden=\"true\" class=\"icon-play absolute w-full h-full\"></i></div><div class=\"text-sm\">09:36</div></button></div><span class=\"block w-full css-82uonn\" dir=\"ltr\"><span class=\"inline cursor-pointer hover:bg-red-300 css-82uonn\">Now, what does Vienna's story tell us? </span><span class=\"inline cursor-pointer hover:bg-red-300 css-82uonn\">It tells us that if we want women\n",
      "to benefit from a green city project, </span><span class=\"inline cursor-pointer hover:bg-red-300 css-82uonn\">from an urbanism project,\n",
      "or from any project, </span><span class=\"inline cursor-pointer hover:bg-red-300 css-82uonn\">it needs intention. </span><span class=\"inline cursor-pointer hover:bg-red-300 css-82uonn\">And intention means\n",
      "at least these three ingredients: </span><span class=\"inline cursor-pointer hover:bg-red-300 css-82uonn\">upfront and ascending\n",
      "women specific needs, </span><span class=\"inline cursor-pointer hover:bg-red-300 css-82uonn\">even if the project is not specifically\n",
      "targeting women; </span><span class=\"inline cursor-pointer hover:bg-red-300 css-82uonn\">involving women in the design\n",
      "of the project; </span><span class=\"inline cursor-pointer hover:bg-red-300 css-82uonn\">and specifically measuring\n",
      "the impact of the project on women </span><span class=\"inline cursor-pointer hover:bg-red-300 css-82uonn\">to be able to adjust if necessary. </span></span></div><div class=\"mb-6 w-full\"><div class=\"mt-10 mb-5 flex items-center\"><button class=\"group flex justify-between items-center w-20 py-2 px-3 rounded-full bg-gray-50\" type=\"button\"><div class=\"w-4 h-4 text-red-500 relative flex justify-center items-center\"><i aria-hidden=\"true\" class=\"icon-play-filled opacity-0 absolute w-full h-full group-hover:opacity-100\"></i><i aria-hidden=\"true\" class=\"icon-play absolute w-full h-full\"></i></div><div class=\"text-sm\">10:18</div></button></div><span class=\"block w-full css-82uonn\" dir=\"ltr\"><span class=\"inline cursor-pointer hover:bg-red-300 css-82uonn\">So this way, with this approach, </span><span class=\"inline cursor-pointer hover:bg-red-300 css-82uonn\">we could correct the biases </span><span class=\"inline cursor-pointer hover:bg-red-300 css-82uonn\">that are behind the gender-neutral\n",
      "urban planning programs </span><span class=\"inline cursor-pointer hover:bg-red-300 css-82uonn\">that exist everywhere. </span><span class=\"inline cursor-pointer hover:bg-red-300 css-82uonn\">And we could duplicate Vienna’s\n",
      "intentional experience </span><span class=\"inline cursor-pointer hover:bg-red-300 css-82uonn\">in every green city. </span></span></div><div class=\"mb-6 w-full\"><div class=\"mt-10 mb-5 flex items-center\"><button class=\"group flex justify-between items-center w-20 py-2 px-3 rounded-full bg-gray-50\" type=\"button\"><div class=\"w-4 h-4 text-red-500 relative flex justify-center items-center\"><i aria-hidden=\"true\" class=\"icon-play-filled opacity-0 absolute w-full h-full group-hover:opacity-100\"></i><i aria-hidden=\"true\" class=\"icon-play absolute w-full h-full\"></i></div><div class=\"text-sm\">10:38</div></button></div><span class=\"block w-full css-82uonn\" dir=\"ltr\"><span class=\"inline cursor-pointer hover:bg-red-300 css-82uonn\">And I left the best part for the end. </span><span class=\"inline cursor-pointer hover:bg-red-300 css-82uonn\">When involved in urban planning, </span><span class=\"inline cursor-pointer hover:bg-red-300 css-82uonn\">women proved to be active agents\n",
      "of sustainability. </span><span class=\"inline cursor-pointer hover:bg-red-300 css-82uonn\">Statistically, the most sustainable cities </span><span class=\"inline cursor-pointer hover:bg-red-300 css-82uonn\">are also the ones with the highest\n",
      "representation of women </span><span class=\"inline cursor-pointer hover:bg-red-300 css-82uonn\">in policy making and leadership positions. </span><span class=\"inline cursor-pointer hover:bg-red-300 css-82uonn\">So this gendered approach will not only\n",
      "make green cities more inclusive of women, </span><span class=\"inline cursor-pointer hover:bg-red-300 css-82uonn\">it will also make them greener. </span><span class=\"inline cursor-pointer hover:bg-red-300 css-82uonn\">Treating women exactly like men, </span><span class=\"inline cursor-pointer hover:bg-red-300 css-82uonn\">as I have heard multiple times\n",
      "from policymakers and leaders, </span><span class=\"inline cursor-pointer hover:bg-red-300 css-82uonn\">is not what will get us to gender equality </span><span class=\"inline cursor-pointer hover:bg-red-300 css-82uonn\">because it turns a blind eye\n",
      "to the biases that we all have, </span><span class=\"inline cursor-pointer hover:bg-red-300 css-82uonn\">and it tends to perpetuate\n",
      "pre-existing inequalities </span><span class=\"inline cursor-pointer hover:bg-red-300 css-82uonn\">and could even be widening them. </span><span class=\"inline cursor-pointer hover:bg-red-300 css-82uonn\">Urbanism is just one example </span><span class=\"inline cursor-pointer hover:bg-red-300 css-82uonn\">of how the green economy\n",
      "will revolutionize the way we move, </span><span class=\"inline cursor-pointer hover:bg-red-300 css-82uonn\">work, eat. </span><span class=\"inline cursor-pointer hover:bg-red-300 css-82uonn\">If we intentionally embed a gender lens\n",
      "in the way we will sustainably rebuild, </span><span class=\"inline cursor-pointer hover:bg-red-300 css-82uonn\">rethink all of these aspects, </span><span class=\"inline cursor-pointer hover:bg-red-300 css-82uonn\">we can advance gender equality\n",
      "at the same time, </span><span class=\"inline cursor-pointer hover:bg-red-300 css-82uonn\">and this will in turn have\n",
      "a positive impact on the planet. </span><span class=\"inline cursor-pointer hover:bg-red-300 css-82uonn\">See, we can save the world\n",
      "all at once, after all. </span></span></div><div class=\"mb-6 w-full\"><div class=\"mt-10 mb-5 flex items-center\"><button class=\"group flex justify-between items-center w-20 py-2 px-3 rounded-full bg-gray-50\" type=\"button\"><div class=\"w-4 h-4 text-red-500 relative flex justify-center items-center\"><i aria-hidden=\"true\" class=\"icon-play-filled opacity-0 absolute w-full h-full group-hover:opacity-100\"></i><i aria-hidden=\"true\" class=\"icon-play absolute w-full h-full\"></i></div><div class=\"text-sm\">12:04</div></button></div><span class=\"block w-full css-82uonn\" dir=\"ltr\"><span class=\"inline cursor-pointer hover:bg-red-300 css-82uonn\">Thank you. </span></span></div><div class=\"mb-6 w-full\"><div class=\"mt-10 mb-5 flex items-center\"><button class=\"group flex justify-between items-center w-20 py-2 px-3 rounded-full bg-gray-50\" type=\"button\"><div class=\"w-4 h-4 text-red-500 relative flex justify-center items-center\"><i aria-hidden=\"true\" class=\"icon-play-filled opacity-0 absolute w-full h-full group-hover:opacity-100\"></i><i aria-hidden=\"true\" class=\"icon-play absolute w-full h-full\"></i></div><div class=\"text-sm\">12:05</div></button></div><span class=\"block w-full css-82uonn\" dir=\"ltr\"><span class=\"inline cursor-pointer hover:bg-red-300 css-82uonn\">(Applause) </span></span></div></div></div>\n"
     ]
    }
   ],
   "source": [
    "print(transcripts)"
   ]
  },
  {
   "cell_type": "code",
   "execution_count": 72,
   "metadata": {},
   "outputs": [],
   "source": [
    "transcripts_each = transcripts.find_all('div', class_ = \"mb-6 w-full\")"
   ]
  },
  {
   "cell_type": "code",
   "execution_count": 73,
   "metadata": {},
   "outputs": [
    {
     "name": "stdout",
     "output_type": "stream",
     "text": [
      "20\n"
     ]
    }
   ],
   "source": [
    "print(len(transcripts_each))"
   ]
  },
  {
   "cell_type": "code",
   "execution_count": 74,
   "metadata": {},
   "outputs": [],
   "source": [
    "speech_block = []\n",
    "for i in range(len(transcripts_each)):\n",
    "    speech_block.append(transcripts_each[i].span.text)\n"
   ]
  },
  {
   "cell_type": "code",
   "execution_count": 75,
   "metadata": {},
   "outputs": [
    {
     "name": "stdout",
     "output_type": "stream",
     "text": [
      "[\"What if our efforts\\nto build a better planet benefited half of this room more? What if we reduced our emissions but increased the gap\\nbetween men and women? What if by 2050 we reach net zero, but women had a lower chance\\nthan men to find a decent job? Disturbing, right? And yet, this is exactly\\nwhat my colleagues and I found while studying the links\\nbetween women and climate over the last years. Our research has shown\\nthat climate action, as it is unfolding, could set gender equality\\nback by 15 years. I'm going to say that again. So climate action, not climate change, climate action, meaning all the efforts\\nthat are being made to reduce our emissions, to adapt our lives to a warmer planet, could actually set gender equality\\nback by 15 years. \", 'I know what you must be thinking. This is a total buzzkill. ', '(Laughter) ', \"So the climate challenge\\nis not big enough, you’re adding solving gender\\nequality to the equation? I get the feeling. But the good news is, if we do it right, we have a unique chance to advance\\nboth the climate agenda and gender equality. How? By being intentional about it. But first, let's go back to that 15-year\\nsetback risk I mentioned. I give it to you, it's counterintuitive\\nto say that climate action that aims at building\\na more viable future to all of us could actually have a negative impact\\non gender equality. \", \"So let me explain. Obviously women, as well as men, women even more than men, will benefit from living\\nin a more sustainable planet. Their health, their education,\\ntheir livelihoods will improve. But what I'm saying\\nis that there is also a risk that women might miss out on the green economy's massive investments and job opportunities. \", 'And here are two examples of that. By 2030, 65 million green jobs will be created. The highest-paid, more stable ones\\nwill require what’s called STEM education: science, technology,\\nengineering and mathematics. Today, women represent 35 percent\\nof STEM students globally. So they might be less qualified\\nto access these green jobs. ', 'Second example: by 2030, companies\\nin highly emitting sectors -- such as energy, building materials,\\nindustrial goods -- will be spending as much\\nas 500 billion dollars to train their employees\\nin new green skills. ', \"Now, these industries\\nare historically male-dominated, so mechanically, women are less likely\\nto participate in these retrainings, widening the skill gap\\nbetween men and women again in accessing the jobs of the future. So, see, the risk is real. Women might miss out\\non these opportunities and investments, or at least miss out on part of them, even if this wasn't the initial intent. \", 'So what is it that we need to do to have a climate action that solves these two\\nmajor challenges at the same time: gender equality and sustainability? Well, we need to do something\\nthat seems very simple, yet very often overlooked. When investing in green projects and developing green products,\\ncrafting green legislations, we need to make sure that women\\nas well as men will equally benefit. Not more, not less. Just equally. ', 'Might seem obvious. You might even think,\\n\"Isn\\'t that what we\\'re already doing?\" But history has showed us\\nthat time and time again, even though this is\\nwhat we think we\\'re doing, this is not what is actually happening, at least not naturally, organically, not without an explicit intent. So we need to take this intent\\ninto climate action. We need to naturally, systematically, intentionally embed\\nwhat you could call a gender lens in all of the green economy’s\\ninvestments, projects and legislations. ', 'And I am not just talking\\nabout projects targeting women or funds dedicated to women or a gender day in climate negotiations. I am talking about gender\\nas an intentional forethought in every green project,\\nevery green investment, every green legislation. ', \"Let's take an example. Green cities. Green cities are a great illustration of how we could integrate this gender lens and have climate action\\nboost gender equality instead of setting it back. From Chicago to Shanghai, from Copenhagen to Rio, most large cities have ambitious\\nprograms to become greener. Two trillion dollars\\nwill have to be spent every year for the next 20 years to upgrade urban infrastructure and make it more sustainable. And this covers housing, energy safety, public transportation,\\ngreen spaces, you name it. With the right approach, these cities can become greener and more inclusive of women. \", 'Now greener, they sort of know\\nhow to do that. They have already initiated\\nmultiple projects, and there is already a lot\\nof research in that field. ', \"But becoming more inclusive of women, we hear less about that. This is less documented. And yet there is a great story\\nthat can serve as an inspiration. This story takes place\\nin the beautiful city of Vienna, in Austria. In the '90s, planning officials in Vienna realized that women were less satisfied\\nwith transportation systems than men. Because these systems are designed\\nfor people going between home and work, between suburbs and city centers at mostly set times. But women, although they make up the majority\\nof public transportation users, women's trips are nothing like that. They are much more fragmented,\\nthey are much shorter, they require multiple\\ntransportation modes, and they don't necessarily happen\\nduring rush hour. All of this because women\\ncombine their work trips with their domestic\\nand caregiving responsibilities. And this, transportation, is a major\\nfactor when it comes to women’s labor and participation [in] the economy. They also noticed something else. Before the age of nine, boys and girls would equally go to parks. But when girls reach the age of nine,\\nsomething strange happens. They almost disappeared from public parks. So they did some research\\nand they confirmed that, no, it’s not that all of a sudden,\\nwhen girls turn nine, they no longer are interested\\nin public parks. It's again, because of the way\\nthese parks are designed with their single large open space\\nand multiple football cages, boys feel welcomed, girls feel they need to compete for space. So they just stopped going there. \", \"So bottom line, through these\\ntwo examples and many more, they realized that the gender-neutral\\napproach that the city had and that most cities in the world have, this gender-neutral approach\\ncan actually be a women-blind one. So they decided to intentionally design\\na gender-equal urban planning program. So they surveyed men and women to better understand the way\\nthey live in the city. They brought in female architects\\nand urban planners to participate alongside\\ntheir male colleagues, to participate [in] the city’s redesign. They added gender assessment\\nin social housing and infrastructure contracts. So see, just like that,\\nevery step was made with the intention,\\nthe explicit intention, to make sure that women\\nwill benefit as well as men. Again, not more, not less, as well as men. So in parks they have added foot paths\\nto divide up space. They have integrated\\na wider range of activities such as volleyball. And just like that, teenage girls came back to parks. And this has benefited teenage girls,\\nbut not only them. Every year since 2009, except for COVID years, Vienna has been named\\nthe best city in the world to live in. Now, it's not just the gendered approach, but it clearly contributed\\nbecause for the first time, the specific needs of the other\\nhalf of the population were taken into account. \", \"Now, what does Vienna's story tell us? It tells us that if we want women\\nto benefit from a green city project, from an urbanism project,\\nor from any project, it needs intention. And intention means\\nat least these three ingredients: upfront and ascending\\nwomen specific needs, even if the project is not specifically\\ntargeting women; involving women in the design\\nof the project; and specifically measuring\\nthe impact of the project on women to be able to adjust if necessary. \", 'So this way, with this approach, we could correct the biases that are behind the gender-neutral\\nurban planning programs that exist everywhere. And we could duplicate Vienna’s\\nintentional experience in every green city. ', 'And I left the best part for the end. When involved in urban planning, women proved to be active agents\\nof sustainability. Statistically, the most sustainable cities are also the ones with the highest\\nrepresentation of women in policy making and leadership positions. So this gendered approach will not only\\nmake green cities more inclusive of women, it will also make them greener. Treating women exactly like men, as I have heard multiple times\\nfrom policymakers and leaders, is not what will get us to gender equality because it turns a blind eye\\nto the biases that we all have, and it tends to perpetuate\\npre-existing inequalities and could even be widening them. Urbanism is just one example of how the green economy\\nwill revolutionize the way we move, work, eat. If we intentionally embed a gender lens\\nin the way we will sustainably rebuild, rethink all of these aspects, we can advance gender equality\\nat the same time, and this will in turn have\\na positive impact on the planet. See, we can save the world\\nall at once, after all. ', 'Thank you. ', '(Applause) ']\n"
     ]
    }
   ],
   "source": [
    "print(speech_block)"
   ]
  },
  {
   "cell_type": "code",
   "execution_count": 76,
   "metadata": {},
   "outputs": [],
   "source": [
    "single_text = \" \".join(speech_block)"
   ]
  },
  {
   "cell_type": "code",
   "execution_count": 77,
   "metadata": {},
   "outputs": [
    {
     "name": "stdout",
     "output_type": "stream",
     "text": [
      "What if our efforts\n",
      "to build a better planet benefited half of this room more? What if we reduced our emissions but increased the gap\n",
      "between men and women? What if by 2050 we reach net zero, but women had a lower chance\n",
      "than men to find a decent job? Disturbing, right? And yet, this is exactly\n",
      "what my colleagues and I found while studying the links\n",
      "between women and climate over the last years. Our research has shown\n",
      "that climate action, as it is unfolding, could set gender equality\n",
      "back by 15 years. I'm going to say that again. So climate action, not climate change, climate action, meaning all the efforts\n",
      "that are being made to reduce our emissions, to adapt our lives to a warmer planet, could actually set gender equality\n",
      "back by 15 years.  I know what you must be thinking. This is a total buzzkill.  (Laughter)  So the climate challenge\n",
      "is not big enough, you’re adding solving gender\n",
      "equality to the equation? I get the feeling. But the good news is, if we do it right, we have a unique chance to advance\n",
      "both the climate agenda and gender equality. How? By being intentional about it. But first, let's go back to that 15-year\n",
      "setback risk I mentioned. I give it to you, it's counterintuitive\n",
      "to say that climate action that aims at building\n",
      "a more viable future to all of us could actually have a negative impact\n",
      "on gender equality.  So let me explain. Obviously women, as well as men, women even more than men, will benefit from living\n",
      "in a more sustainable planet. Their health, their education,\n",
      "their livelihoods will improve. But what I'm saying\n",
      "is that there is also a risk that women might miss out on the green economy's massive investments and job opportunities.  And here are two examples of that. By 2030, 65 million green jobs will be created. The highest-paid, more stable ones\n",
      "will require what’s called STEM education: science, technology,\n",
      "engineering and mathematics. Today, women represent 35 percent\n",
      "of STEM students globally. So they might be less qualified\n",
      "to access these green jobs.  Second example: by 2030, companies\n",
      "in highly emitting sectors -- such as energy, building materials,\n",
      "industrial goods -- will be spending as much\n",
      "as 500 billion dollars to train their employees\n",
      "in new green skills.  Now, these industries\n",
      "are historically male-dominated, so mechanically, women are less likely\n",
      "to participate in these retrainings, widening the skill gap\n",
      "between men and women again in accessing the jobs of the future. So, see, the risk is real. Women might miss out\n",
      "on these opportunities and investments, or at least miss out on part of them, even if this wasn't the initial intent.  So what is it that we need to do to have a climate action that solves these two\n",
      "major challenges at the same time: gender equality and sustainability? Well, we need to do something\n",
      "that seems very simple, yet very often overlooked. When investing in green projects and developing green products,\n",
      "crafting green legislations, we need to make sure that women\n",
      "as well as men will equally benefit. Not more, not less. Just equally.  Might seem obvious. You might even think,\n",
      "\"Isn't that what we're already doing?\" But history has showed us\n",
      "that time and time again, even though this is\n",
      "what we think we're doing, this is not what is actually happening, at least not naturally, organically, not without an explicit intent. So we need to take this intent\n",
      "into climate action. We need to naturally, systematically, intentionally embed\n",
      "what you could call a gender lens in all of the green economy’s\n",
      "investments, projects and legislations.  And I am not just talking\n",
      "about projects targeting women or funds dedicated to women or a gender day in climate negotiations. I am talking about gender\n",
      "as an intentional forethought in every green project,\n",
      "every green investment, every green legislation.  Let's take an example. Green cities. Green cities are a great illustration of how we could integrate this gender lens and have climate action\n",
      "boost gender equality instead of setting it back. From Chicago to Shanghai, from Copenhagen to Rio, most large cities have ambitious\n",
      "programs to become greener. Two trillion dollars\n",
      "will have to be spent every year for the next 20 years to upgrade urban infrastructure and make it more sustainable. And this covers housing, energy safety, public transportation,\n",
      "green spaces, you name it. With the right approach, these cities can become greener and more inclusive of women.  Now greener, they sort of know\n",
      "how to do that. They have already initiated\n",
      "multiple projects, and there is already a lot\n",
      "of research in that field.  But becoming more inclusive of women, we hear less about that. This is less documented. And yet there is a great story\n",
      "that can serve as an inspiration. This story takes place\n",
      "in the beautiful city of Vienna, in Austria. In the '90s, planning officials in Vienna realized that women were less satisfied\n",
      "with transportation systems than men. Because these systems are designed\n",
      "for people going between home and work, between suburbs and city centers at mostly set times. But women, although they make up the majority\n",
      "of public transportation users, women's trips are nothing like that. They are much more fragmented,\n",
      "they are much shorter, they require multiple\n",
      "transportation modes, and they don't necessarily happen\n",
      "during rush hour. All of this because women\n",
      "combine their work trips with their domestic\n",
      "and caregiving responsibilities. And this, transportation, is a major\n",
      "factor when it comes to women’s labor and participation [in] the economy. They also noticed something else. Before the age of nine, boys and girls would equally go to parks. But when girls reach the age of nine,\n",
      "something strange happens. They almost disappeared from public parks. So they did some research\n",
      "and they confirmed that, no, it’s not that all of a sudden,\n",
      "when girls turn nine, they no longer are interested\n",
      "in public parks. It's again, because of the way\n",
      "these parks are designed with their single large open space\n",
      "and multiple football cages, boys feel welcomed, girls feel they need to compete for space. So they just stopped going there.  So bottom line, through these\n",
      "two examples and many more, they realized that the gender-neutral\n",
      "approach that the city had and that most cities in the world have, this gender-neutral approach\n",
      "can actually be a women-blind one. So they decided to intentionally design\n",
      "a gender-equal urban planning program. So they surveyed men and women to better understand the way\n",
      "they live in the city. They brought in female architects\n",
      "and urban planners to participate alongside\n",
      "their male colleagues, to participate [in] the city’s redesign. They added gender assessment\n",
      "in social housing and infrastructure contracts. So see, just like that,\n",
      "every step was made with the intention,\n",
      "the explicit intention, to make sure that women\n",
      "will benefit as well as men. Again, not more, not less, as well as men. So in parks they have added foot paths\n",
      "to divide up space. They have integrated\n",
      "a wider range of activities such as volleyball. And just like that, teenage girls came back to parks. And this has benefited teenage girls,\n",
      "but not only them. Every year since 2009, except for COVID years, Vienna has been named\n",
      "the best city in the world to live in. Now, it's not just the gendered approach, but it clearly contributed\n",
      "because for the first time, the specific needs of the other\n",
      "half of the population were taken into account.  Now, what does Vienna's story tell us? It tells us that if we want women\n",
      "to benefit from a green city project, from an urbanism project,\n",
      "or from any project, it needs intention. And intention means\n",
      "at least these three ingredients: upfront and ascending\n",
      "women specific needs, even if the project is not specifically\n",
      "targeting women; involving women in the design\n",
      "of the project; and specifically measuring\n",
      "the impact of the project on women to be able to adjust if necessary.  So this way, with this approach, we could correct the biases that are behind the gender-neutral\n",
      "urban planning programs that exist everywhere. And we could duplicate Vienna’s\n",
      "intentional experience in every green city.  And I left the best part for the end. When involved in urban planning, women proved to be active agents\n",
      "of sustainability. Statistically, the most sustainable cities are also the ones with the highest\n",
      "representation of women in policy making and leadership positions. So this gendered approach will not only\n",
      "make green cities more inclusive of women, it will also make them greener. Treating women exactly like men, as I have heard multiple times\n",
      "from policymakers and leaders, is not what will get us to gender equality because it turns a blind eye\n",
      "to the biases that we all have, and it tends to perpetuate\n",
      "pre-existing inequalities and could even be widening them. Urbanism is just one example of how the green economy\n",
      "will revolutionize the way we move, work, eat. If we intentionally embed a gender lens\n",
      "in the way we will sustainably rebuild, rethink all of these aspects, we can advance gender equality\n",
      "at the same time, and this will in turn have\n",
      "a positive impact on the planet. See, we can save the world\n",
      "all at once, after all.  Thank you.  (Applause) \n"
     ]
    }
   ],
   "source": [
    "print(single_text)"
   ]
  }
 ],
 "metadata": {
  "kernelspec": {
   "display_name": "Python 3.10.4 ('venv': venv)",
   "language": "python",
   "name": "python3"
  },
  "language_info": {
   "codemirror_mode": {
    "name": "ipython",
    "version": 3
   },
   "file_extension": ".py",
   "mimetype": "text/x-python",
   "name": "python",
   "nbconvert_exporter": "python",
   "pygments_lexer": "ipython3",
   "version": "3.10.4"
  },
  "orig_nbformat": 4,
  "vscode": {
   "interpreter": {
    "hash": "716874a761c438235e125bfbff66fd649bef3b64c0366d3793b704d9e5ab379c"
   }
  }
 },
 "nbformat": 4,
 "nbformat_minor": 2
}
